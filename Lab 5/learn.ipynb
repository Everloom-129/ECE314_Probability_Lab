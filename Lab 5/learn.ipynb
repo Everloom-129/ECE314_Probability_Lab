{
 "cells": [
  {
   "cell_type": "code",
   "execution_count": 7,
   "metadata": {},
   "outputs": [
    {
     "name": "stdout",
     "output_type": "stream",
     "text": [
      "True\n",
      "False\n"
     ]
    }
   ],
   "source": [
    "import hashlib\n",
    "import math\n",
    "\n",
    "class BloomFilter(object):\n",
    "    def __init__(self, items_count, fp_prob):\n",
    "        self.fp_prob = fp_prob\n",
    "        self.size = self.get_size(items_count, fp_prob)\n",
    "        self.hash_count = self.get_hash_count(self.size, items_count)\n",
    "        self.bit_array = [0] * self.size\n",
    "\n",
    "    def add(self, item):\n",
    "        digests = []\n",
    "        for i in range(self.hash_count):\n",
    "            digest = hashlib.sha256(item.encode('utf-8') + str(i).encode('utf-8')).hexdigest()\n",
    "            digests.append(int(digest, 16) % self.size)\n",
    "        for digest in digests:\n",
    "            self.bit_array[digest] = 1\n",
    "\n",
    "    def check(self, item):\n",
    "        digests = []\n",
    "        for i in range(self.hash_count):\n",
    "            digest = hashlib.sha256(item.encode('utf-8') + str(i).encode('utf-8')).hexdigest()\n",
    "            digests.append(int(digest, 16) % self.size)\n",
    "        return all(self.bit_array[digest] == 1 for digest in digests)\n",
    "\n",
    "    @classmethod\n",
    "    def get_size(self, n, p):\n",
    "        m = -(n * math.log(p))/(math.log(2)**2)\n",
    "        return int(m)\n",
    "\n",
    "    @classmethod\n",
    "    def get_hash_count(self, m, n):\n",
    "        k = (m/n) * math.log(2)\n",
    "        return int(k)\n",
    "\n",
    "# Example usage\n",
    "bloom = BloomFilter(20, 0.05)  # 20 items, 5% FP rate\n",
    "bloom.add(\"Hello\")\n",
    "bloom.add(\"World\")\n",
    "print(bloom.check(\"Hello\"))  # True\n",
    "print(bloom.check(\"Word\"))  # False (might be True, due to FP)\n"
   ]
  },
  {
   "cell_type": "code",
   "execution_count": 8,
   "metadata": {},
   "outputs": [
    {
     "data": {
      "text/plain": [
       "3"
      ]
     },
     "execution_count": 8,
     "metadata": {},
     "output_type": "execute_result"
    }
   ],
   "source": [
    "bloom.get_hash_count(10,2)"
   ]
  }
 ],
 "metadata": {
  "kernelspec": {
   "display_name": "base",
   "language": "python",
   "name": "python3"
  },
  "language_info": {
   "codemirror_mode": {
    "name": "ipython",
    "version": 3
   },
   "file_extension": ".py",
   "mimetype": "text/x-python",
   "name": "python",
   "nbconvert_exporter": "python",
   "pygments_lexer": "ipython3",
   "version": "3.9.12"
  }
 },
 "nbformat": 4,
 "nbformat_minor": 2
}
